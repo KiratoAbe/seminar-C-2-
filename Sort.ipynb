{
  "nbformat": 4,
  "nbformat_minor": 0,
  "metadata": {
    "colab": {
      "provenance": [],
      "include_colab_link": true
    },
    "kernelspec": {
      "name": "python3",
      "display_name": "Python 3"
    },
    "language_info": {
      "name": "python"
    }
  },
  "cells": [
    {
      "cell_type": "markdown",
      "metadata": {
        "id": "view-in-github",
        "colab_type": "text"
      },
      "source": [
        "<a href=\"https://colab.research.google.com/github/KiratoAbe/seminar-C-2-/blob/main/Sort.ipynb\" target=\"_parent\"><img src=\"https://colab.research.google.com/assets/colab-badge.svg\" alt=\"Open In Colab\"/></a>"
      ]
    },
    {
      "cell_type": "markdown",
      "source": [
        "挿入ソート"
      ],
      "metadata": {
        "id": "6wzppFRijLYj"
      }
    },
    {
      "cell_type": "code",
      "execution_count": null,
      "metadata": {
        "id": "Y8H5YUIPjDBE"
      },
      "outputs": [],
      "source": [
        "def insertion_sort_left_to_right(arr):\n",
        "    n = len(arr)\n",
        "    for i in range(1, n):\n",
        "        key = arr[i]\n",
        "\n",
        "        # 挿入位置を探す (左から右へ)\n",
        "        j = 0\n",
        "        while j < i and key > arr[j]:\n",
        "            j += 1\n",
        "\n",
        "        # j が挿入位置\n",
        "        for k in range(i - 1, j - 1, -1):  # i-1 から j まで逆順に\n",
        "            arr[k + 1] = arr[k]\n",
        "\n",
        "        # 最後に key を挿入\n",
        "        arr[j] = key\n",
        "\n",
        "    return arr\n",
        "\n",
        "if __name__ == \"__main__\":\n",
        "  my_list = [5, 2, 4, 6, 1, 3] #配列\n",
        "  #ソートする\n",
        "  insertion_sort_left_to_right(my_list)\n",
        "  #ソート後のリストの表示\n",
        "  print(f\"ソート後: {my_list}\")\n",
        "\n"
      ]
    },
    {
      "cell_type": "markdown",
      "source": [
        "クイックソート(Lomuto)"
      ],
      "metadata": {
        "id": "VF5aZvcyjQC3"
      }
    },
    {
      "cell_type": "code",
      "source": [
        "def quick_sort(arr):\n",
        "    \"\"\"\n",
        "    クイックソートのメイン関数 (ロムートの分割方式)\n",
        "    \"\"\"\n",
        "    _quick_sort_recursive(arr, 0, len(arr) - 1)\n",
        "    return arr\n",
        "\n",
        "\n",
        "def _quick_sort_recursive(arr, low, high):\n",
        "    \"\"\"\n",
        "    クイックソートの再帰関数\n",
        "    Args:\\\n",
        "        arr (list): ソートする要素のリスト\n",
        "        low (int): 現在のサブ配列の開始インデックス\n",
        "        high (int): 現在のサブ配列の終了インデックス\n",
        "    \"\"\"\n",
        "    # low が high より小さい場合のみソートの対象（2要素以上ある場合）\n",
        "    if low < high:\n",
        "        # 配列を分割し、ピボットの最終的な位置を取得\n",
        "        # pivot_index はピボットが置かれた最終的な場所（パーティションの境界）\n",
        "        pivot_index = _partition(arr, low, high)\n",
        "\n",
        "        # ピボットの左側のサブ配列を再帰的にソート\n",
        "        _quick_sort_recursive(arr, low, pivot_index - 1)\n",
        "\n",
        "        # ピボットの右側のサブ配列を再帰的にソート\n",
        "        _quick_sort_recursive(arr, pivot_index + 1, high)\n",
        "\n",
        "\n",
        "def _get_median_of_three(arr, low, high):\n",
        "    \"\"\"\n",
        "    両端と中央の値の中から中央値を見つけ、その要素をhighの位置に移動させる\n",
        "    （ロムートの分割では通常highの要素をピボットとするため）\n",
        "    \"\"\"\n",
        "    mid = (low + high) // 2\n",
        "\n",
        "    # low と mid を比較\n",
        "    if arr[low] > arr[mid]:\n",
        "        arr[low], arr[mid] = arr[mid], arr[low]\n",
        "\n",
        "    # low と high を比較\n",
        "    if arr[low] > arr[high]:\n",
        "        arr[low], arr[high] = arr[high], arr[low]\n",
        "\n",
        "    # mid と high を比較\n",
        "    if arr[mid] > arr[high]:\n",
        "        arr[mid], arr[high] = arr[high], arr[mid]\n",
        "\n",
        "    arr[mid], arr[high] = arr[high], arr[mid]\n",
        "\n",
        "    return arr[high]  # high に移動した中央値がピボットとなる\n",
        "\n",
        "\n",
        "def _partition(arr, low, high):\n",
        "    \"\"\"\n",
        "    配列を分割し、ピボットの最終的な位置を返す\n",
        "    Args:\n",
        "        arr (list): 分割するサブ配列\n",
        "        low (int): サブ配列の開始インデックス\n",
        "        high (int): サブ配列の終了インデックス\n",
        "    Returns:\n",
        "        int: ピボットが最終的に置かれたインデックス\n",
        "    \"\"\"\n",
        "    # ピボットの選択\n",
        "    pivot = _get_median_of_three(arr, low, high)\n",
        "\n",
        "    # 'i' の初期化\n",
        "    i = low - 1 # 最初は小さい要素がないため、low-1 から始める\n",
        "\n",
        "    #各要素をピボットと比較\n",
        "    for j in range(low, high):\n",
        "\n",
        "        if arr[j] < pivot:\n",
        "            # arr[j] と arr[i] を交換する\n",
        "            i += 1\n",
        "            arr[i], arr[j] = arr[j], arr[i]\n",
        "\n",
        "            \"\"\"\n",
        "            arr[i], arr[j] = arr[j], arr[i]　は以下のコードと同じ\n",
        "\n",
        "            temp = arr[i]\n",
        "            arr[i] = arr[j]\n",
        "            arr[j] = temp\n",
        "            \"\"\"\n",
        "\n",
        "    #　ピボットの配置\n",
        "    # ループが終了したら、i の位置にはピボットより小さい要素の最後の要素がある\n",
        "    # したがって、i+1 の位置がピボットを置くべき正しい場所\n",
        "    # arr[i+1] と arr[high] (ピボット) を交換し、ピボットを適切な位置に置く\n",
        "    arr[i + 1], arr[high] = arr[high], arr[i + 1]\n",
        "\n",
        "    # ピボットの最終位置を返す\n",
        "    # 次の再帰呼び出しで、この位置を境界としてサブ配列を分割する\n",
        "    return i + 1\n",
        "\n",
        "\n",
        "if __name__ == \"__main__\":\n",
        "    my_list = [5, 2, 8, 4, 1, 9, 3, 7]\n",
        "    quick_sort(my_list)\n",
        "    print(f\"ソート後 (my_list): {my_list}\")"
      ],
      "metadata": {
        "colab": {
          "base_uri": "https://localhost:8080/"
        },
        "id": "tyyIwPWqjS-f",
        "outputId": "1b4f850a-9efa-40ec-e936-a0f5536845bc"
      },
      "execution_count": null,
      "outputs": [
        {
          "output_type": "stream",
          "name": "stdout",
          "text": [
            "ソート後 (my_list): [1, 2, 3, 4, 5, 7, 8, 9]\n"
          ]
        }
      ]
    },
    {
      "cell_type": "markdown",
      "source": [
        "クイックソート(Hoare)"
      ],
      "metadata": {
        "id": "h4FUxTet3jOV"
      }
    },
    {
      "cell_type": "code",
      "source": [
        "def quick_sort(arr):\n",
        "    \"\"\"\n",
        "    クイックソートのメイン関数 (ホーアの分割方式)\n",
        "    \"\"\"\n",
        "    _quick_sort_recursive(arr, 0, len(arr) - 1)\n",
        "    return arr\n",
        "\n",
        "\n",
        "def _quick_sort_recursive(arr, low, high):\n",
        "    \"\"\"\n",
        "    クイックソートの再帰関数\n",
        "    Args:\n",
        "        arr (list): ソートする要素のリスト\n",
        "        low (int): 現在のサブ配列の開始インデックス\n",
        "        high (int): 現在のサブ配列の終了インデックス\n",
        "    \"\"\"\n",
        "    # 2要素以上ある場合\n",
        "    if low < high:\n",
        "        # 配列を分割し、分割点（左右のサブ配列の境界）を取得\n",
        "        # partition_index はピボットの最終的な位置ではないことに注意\n",
        "        partition_index = _partition(arr, low, high)\n",
        "\n",
        "        # ピボットの左側のサブ配列を再帰的にソート (partition_index を含む場合がある)\n",
        "        _quick_sort_recursive(arr, low, partition_index)\n",
        "\n",
        "        # ピボットの右側のサブ配列を再帰的にソート (partition_index + 1 から開始)\n",
        "        _quick_sort_recursive(arr, partition_index + 1, high)\n",
        "\n",
        "\n",
        "def _get_median_of_three_pivot_value(arr, low, high):\n",
        "    \"\"\"\n",
        "    両端と中央の値の中から中央値を見つけ、その値を返す。\n",
        "    sort()関数を使わずに実装。\n",
        "    \"\"\"\n",
        "    mid = (low + high) // 2\n",
        "\n",
        "    a = arr[low]\n",
        "    b = arr[mid]\n",
        "    c = arr[high]\n",
        "\n",
        "    # 3つの値 (a, b, c) の中央値を見つける\n",
        "    if (a >= b and b >= c) or (c >= b and b >= a):\n",
        "        # b が中央値の場合\n",
        "        return b\n",
        "    elif (b >= a and a >= c) or (c >= a and a >= b):\n",
        "        # a が中央値の場合\n",
        "        return a\n",
        "    else:\n",
        "        # c が中央値の場合\n",
        "        return c\n",
        "\n",
        "def _partition(arr, low, high):\n",
        "    \"\"\"\n",
        "    ホーアの分割方式で配列を分割し、分割点となるインデックスを返す\n",
        "    Args:\n",
        "        arr (list): 分割するサブ配列\n",
        "        low (int): サブ配列の開始インデックス\n",
        "        high (int): サブ配列の終了インデックス\n",
        "    Returns:\n",
        "        int: 分割点となるインデックス (ピボットの最終位置ではない)\n",
        "    \"\"\"\n",
        "    # ピボットの選択\n",
        "    pivot = _get_median_of_three_pivot_value(arr, low, high)\n",
        "\n",
        "    # ポインタの初期化\n",
        "    left = low\n",
        "    right = high\n",
        "\n",
        "    # 配列の交換\n",
        "    # ポインタが交差するまで繰り返す\n",
        "    while True:\n",
        "        # left ポインタを右に動かし、ピボットより大きいか等しい要素を見つける\n",
        "        while arr[left] < pivot:\n",
        "            left += 1\n",
        "\n",
        "        # right ポインタを左に動かし、ピボットより小さいか等しい要素を見つける\n",
        "        while arr[right] > pivot:\n",
        "            right -= 1\n",
        "\n",
        "        # ポインタが交差または逆転したら、分割が完了したとみなしループを抜ける\n",
        "        if left >= right:\n",
        "            # right の位置が左側のサブ配列の境界となる\n",
        "            return right\n",
        "\n",
        "        # arr[left] がピボット以上で、arr[right] がピボット以下なので、交換\n",
        "        arr[left], arr[right] = arr[right], arr[left]\n",
        "\n",
        "        # 交換後、次の要素を見るためにポインタを1つ進める/戻す\n",
        "        left += 1\n",
        "        right -= 1\n",
        "\n",
        "\n",
        "if __name__ == \"__main__\":\n",
        "    my_list = [5, 2, 8, 4, 1, 9, 3, 7]\n",
        "    quick_sort(my_list)\n",
        "    print(f\"ソート後 (my_list): {my_list}\")"
      ],
      "metadata": {
        "id": "r8tlICXM3mkP",
        "colab": {
          "base_uri": "https://localhost:8080/"
        },
        "outputId": "13a3c531-0d64-4436-c75c-b27cc7048e9a"
      },
      "execution_count": null,
      "outputs": [
        {
          "output_type": "stream",
          "name": "stdout",
          "text": [
            "ソート後 (my_list): [1, 2, 3, 4, 5, 7, 8, 9]\n"
          ]
        }
      ]
    }
  ]
}